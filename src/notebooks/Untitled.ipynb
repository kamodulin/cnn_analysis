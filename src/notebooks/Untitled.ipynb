{
 "cells": [
  {
   "cell_type": "code",
   "execution_count": 1,
   "id": "7f792b45",
   "metadata": {},
   "outputs": [],
   "source": [
    "import collections\n",
    "import numpy as np\n",
    "import torch\n",
    "import os\n",
    "\n",
    "from data_loader import load_data\n",
    "from datetime import datetime\n",
    "from functools import partial\n",
    "from inference import predict\n",
    "from models import AlexNet\n",
    "from svcca import cca_core\n",
    "from scipy.spatial import distance\n",
    "from scipy import stats\n",
    "\n",
    "\n",
    "def hook_fn(name, activations, module, input, output):\n",
    "    activations[name].append(output.half().to(\"cpu\"))\n",
    "\n",
    "\n",
    "def set_hooks(model, activations):\n",
    "    # names = [\"conv1\", \"conv2\", \"conv3\", \"conv4\", \"conv5\", \"dense1\", \"dense2\", \"dense3\"]\n",
    "    # layers = [model.features[0], model.features[3], model.features[6], model.features[8], model.features[10], model.classifier[1], model.classifier[4], model.classifier[6]]\n",
    "    \n",
    "    names = [\"conv1\"]\n",
    "    layers = [model.features[0]]\n",
    "\n",
    "    for name, layer in zip(names, layers):\n",
    "        layer.register_forward_hook(partial(hook_fn, name, activations))\n",
    "\n",
    "\n",
    "def get_activations(net, data_loader, device):\n",
    "    model = net.model\n",
    "    model.to(device)\n",
    "\n",
    "    activations = collections.defaultdict(list)\n",
    "\n",
    "    set_hooks(model, activations)\n",
    "\n",
    "    predict(model, data_loader, device)\n",
    "    torch.cuda.empty_cache()\n",
    "\n",
    "    for _ in activations:\n",
    "        activations[_] = torch.cat(activations[_])\n",
    "\n",
    "    return activations"
   ]
  },
  {
   "cell_type": "code",
   "execution_count": 2,
   "id": "dbc861a2",
   "metadata": {},
   "outputs": [],
   "source": [
    "def partial_save(activations, key, label):\n",
    "    directory = 'data/activations/tmp'\n",
    "    \n",
    "    t = activations[key].transpose(0, 1).reshape(activations[key].shape[1], -1).numpy()\n",
    "    \n",
    "    for i, unit in enumerate(t):\n",
    "        torch.save(unit, f\"{directory}/{label}_{key}_{i}.pth\")\n",
    "    \n",
    "    return t.shape[0]"
   ]
  },
  {
   "cell_type": "code",
   "execution_count": 3,
   "id": "9e101afa",
   "metadata": {
    "scrolled": true
   },
   "outputs": [
    {
     "name": "stdout",
     "output_type": "stream",
     "text": [
      "model_0\n",
      "model_1\n"
     ]
    },
    {
     "ename": "KeyboardInterrupt",
     "evalue": "",
     "output_type": "error",
     "traceback": [
      "\u001b[1;31m---------------------------------------------------------------------------\u001b[0m",
      "\u001b[1;31mKeyboardInterrupt\u001b[0m                         Traceback (most recent call last)",
      "\u001b[1;32m<ipython-input-3-617cf81bd9ae>\u001b[0m in \u001b[0;36m<module>\u001b[1;34m\u001b[0m\n\u001b[0;32m     24\u001b[0m     \u001b[0mnet\u001b[0m\u001b[1;33m.\u001b[0m\u001b[0mset_weights\u001b[0m\u001b[1;33m(\u001b[0m\u001b[1;34mf\"{root}/model_{num}.pth\"\u001b[0m\u001b[1;33m)\u001b[0m\u001b[1;33m\u001b[0m\u001b[1;33m\u001b[0m\u001b[0m\n\u001b[0;32m     25\u001b[0m \u001b[1;33m\u001b[0m\u001b[0m\n\u001b[1;32m---> 26\u001b[1;33m     \u001b[0mA_i\u001b[0m \u001b[1;33m=\u001b[0m \u001b[0mget_activations\u001b[0m\u001b[1;33m(\u001b[0m\u001b[0mnet\u001b[0m\u001b[1;33m,\u001b[0m \u001b[0mdata_loader\u001b[0m\u001b[1;33m,\u001b[0m \u001b[0mdevice\u001b[0m\u001b[1;33m)\u001b[0m\u001b[1;33m\u001b[0m\u001b[1;33m\u001b[0m\u001b[0m\n\u001b[0m\u001b[0;32m     27\u001b[0m     \u001b[0mlength\u001b[0m \u001b[1;33m=\u001b[0m \u001b[0mpartial_save\u001b[0m\u001b[1;33m(\u001b[0m\u001b[0mA_i\u001b[0m\u001b[1;33m,\u001b[0m \u001b[1;34m'conv1'\u001b[0m\u001b[1;33m,\u001b[0m \u001b[1;34m\"A_i\"\u001b[0m\u001b[1;33m)\u001b[0m\u001b[1;33m\u001b[0m\u001b[1;33m\u001b[0m\u001b[0m\n\u001b[0;32m     28\u001b[0m \u001b[1;33m\u001b[0m\u001b[0m\n",
      "\u001b[1;32m<ipython-input-1-a5bf8b2fe203>\u001b[0m in \u001b[0;36mget_activations\u001b[1;34m(net, data_loader, device)\u001b[0m\n\u001b[0;32m     37\u001b[0m     \u001b[0mset_hooks\u001b[0m\u001b[1;33m(\u001b[0m\u001b[0mmodel\u001b[0m\u001b[1;33m,\u001b[0m \u001b[0mactivations\u001b[0m\u001b[1;33m)\u001b[0m\u001b[1;33m\u001b[0m\u001b[1;33m\u001b[0m\u001b[0m\n\u001b[0;32m     38\u001b[0m \u001b[1;33m\u001b[0m\u001b[0m\n\u001b[1;32m---> 39\u001b[1;33m     \u001b[0mpredict\u001b[0m\u001b[1;33m(\u001b[0m\u001b[0mmodel\u001b[0m\u001b[1;33m,\u001b[0m \u001b[0mdata_loader\u001b[0m\u001b[1;33m,\u001b[0m \u001b[0mdevice\u001b[0m\u001b[1;33m)\u001b[0m\u001b[1;33m\u001b[0m\u001b[1;33m\u001b[0m\u001b[0m\n\u001b[0m\u001b[0;32m     40\u001b[0m     \u001b[0mtorch\u001b[0m\u001b[1;33m.\u001b[0m\u001b[0mcuda\u001b[0m\u001b[1;33m.\u001b[0m\u001b[0mempty_cache\u001b[0m\u001b[1;33m(\u001b[0m\u001b[1;33m)\u001b[0m\u001b[1;33m\u001b[0m\u001b[1;33m\u001b[0m\u001b[0m\n\u001b[0;32m     41\u001b[0m \u001b[1;33m\u001b[0m\u001b[0m\n",
      "\u001b[1;32m~\\Developer\\python\\projects\\cnn_analysis\\src\\inference.py\u001b[0m in \u001b[0;36mpredict\u001b[1;34m(model, data_loader, device)\u001b[0m\n\u001b[0;32m      9\u001b[0m     \u001b[1;32mwith\u001b[0m \u001b[0mtorch\u001b[0m\u001b[1;33m.\u001b[0m\u001b[0mno_grad\u001b[0m\u001b[1;33m(\u001b[0m\u001b[1;33m)\u001b[0m\u001b[1;33m:\u001b[0m\u001b[1;33m\u001b[0m\u001b[1;33m\u001b[0m\u001b[0m\n\u001b[0;32m     10\u001b[0m         \u001b[1;32mfor\u001b[0m \u001b[0mimages\u001b[0m\u001b[1;33m,\u001b[0m \u001b[0mlabels\u001b[0m \u001b[1;32min\u001b[0m \u001b[0mdata_loader\u001b[0m\u001b[1;33m:\u001b[0m\u001b[1;33m\u001b[0m\u001b[1;33m\u001b[0m\u001b[0m\n\u001b[1;32m---> 11\u001b[1;33m             \u001b[0mimages\u001b[0m\u001b[1;33m,\u001b[0m \u001b[0mlabels\u001b[0m \u001b[1;33m=\u001b[0m \u001b[0mimages\u001b[0m\u001b[1;33m.\u001b[0m\u001b[0mto\u001b[0m\u001b[1;33m(\u001b[0m\u001b[0mdevice\u001b[0m\u001b[1;33m)\u001b[0m\u001b[1;33m,\u001b[0m \u001b[0mlabels\u001b[0m\u001b[1;33m.\u001b[0m\u001b[0mto\u001b[0m\u001b[1;33m(\u001b[0m\u001b[0mdevice\u001b[0m\u001b[1;33m)\u001b[0m\u001b[1;33m\u001b[0m\u001b[1;33m\u001b[0m\u001b[0m\n\u001b[0m\u001b[0;32m     12\u001b[0m \u001b[1;33m\u001b[0m\u001b[0m\n\u001b[0;32m     13\u001b[0m             \u001b[0moutput\u001b[0m \u001b[1;33m=\u001b[0m \u001b[0mmodel\u001b[0m\u001b[1;33m(\u001b[0m\u001b[0mimages\u001b[0m\u001b[1;33m)\u001b[0m\u001b[1;33m\u001b[0m\u001b[1;33m\u001b[0m\u001b[0m\n",
      "\u001b[1;31mKeyboardInterrupt\u001b[0m: "
     ]
    }
   ],
   "source": [
    "device = torch.device(\"cuda:0\" if torch.cuda.is_available() else \"cpu\")\n",
    "\n",
    "batch_size = 2400\n",
    "num_workers = 6\n",
    "data_loader = load_data(split=\"val\", batch_size=batch_size, num_workers=num_workers)\n",
    "\n",
    "root = \"data/model-weights/pytorch-vision-classification/run_1\"\n",
    "\n",
    "final_net = AlexNet()\n",
    "final_net.set_weights(f\"{root}/model_89.pth\")\n",
    "\n",
    "A_f = get_activations(final_net, data_loader, device)\n",
    "partial_save(A_f, 'conv1', \"A_f\")\n",
    "\n",
    "del A_f\n",
    "\n",
    "scores = []\n",
    "pearson_scores = []\n",
    "\n",
    "for num in range(0,90):\n",
    "    print(f\"model_{num}\")\n",
    "\n",
    "    net = AlexNet()\n",
    "    net.set_weights(f\"{root}/model_{num}.pth\")\n",
    "\n",
    "    A_i = get_activations(net, data_loader, device)\n",
    "    length = partial_save(A_i, 'conv1', \"A_i\")\n",
    "    \n",
    "    del A_i\n",
    "    \n",
    "    for i in range(length):\n",
    "        single_A_f = torch.load(f'data/activations/tmp/A_f_conv1_{i}.pth')\n",
    "        single_A_i = torch.load(f'data/activations/tmp/A_i_conv1_{i}.pth')\n",
    "    \n",
    "        cca = cca_core.get_cca_similarity(single_A_f.reshape(1, -1), single_A_i.reshape(1, -1), epsilon=1e-6, verbose=False)\n",
    "        score = np.mean(cca[\"cca_coef1\"])\n",
    "        pearson = stats.pearsonr(single_A_f, single_A_i)[0]\n",
    "        \n",
    "        scores.append(score)\n",
    "        pearson_scores.append(pearson)\n",
    "    \n",
    "        np.save('conv1-scores.npy', scores)\n",
    "        np.save('conv1-pearson_scores.npy', pearson_scores)\n",
    "        \n",
    "        os.remove(f'data/activations/tmp/A_i_conv1_{i}.pth') "
   ]
  },
  {
   "cell_type": "code",
   "execution_count": null,
   "id": "dbd5d644",
   "metadata": {},
   "outputs": [],
   "source": [
    "#     for layer in [\"conv1\"]:\n",
    "#         data_f = A_f[layer].transpose(0, 1).reshape(A_f[layer].shape[1], -1).cpu().detach().numpy().T\n",
    "#         data_i = A_i[layer].transpose(0, 1).reshape(A_i[layer].shape[1], -1).cpu().detach().numpy().T\n",
    "\n",
    "#         for idx in range(len(data_i)):\n",
    "#             cca = cca_core.get_cca_similarity(data_f[[idx]], data_i[[idx]], epsilon=1e-6, verbose=False)\n",
    "#             score = np.mean(cca[\"cca_coef1\"])\n",
    "            \n",
    "#             pearson = stats.pearsonr(data_f[idx], data_i[idx])[0]\n",
    "            \n",
    "#             scores[layer].append(score)\n",
    "#             pearson_scores[layer].append(pearson)\n",
    "            \n",
    "#     np.save('conv1-scores.npy', dict(scores))\n",
    "#     np.save('conv1-pearson_scores.npy', dict(pearson_scores))"
   ]
  },
  {
   "cell_type": "code",
   "execution_count": null,
   "id": "39561fa5",
   "metadata": {},
   "outputs": [],
   "source": [
    "np.load"
   ]
  }
 ],
 "metadata": {
  "kernelspec": {
   "display_name": "Python 3",
   "language": "python",
   "name": "python3"
  },
  "language_info": {
   "codemirror_mode": {
    "name": "ipython",
    "version": 3
   },
   "file_extension": ".py",
   "mimetype": "text/x-python",
   "name": "python",
   "nbconvert_exporter": "python",
   "pygments_lexer": "ipython3",
   "version": "3.8.8"
  }
 },
 "nbformat": 4,
 "nbformat_minor": 5
}

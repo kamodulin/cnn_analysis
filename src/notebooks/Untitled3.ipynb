{
 "cells": [
  {
   "cell_type": "code",
   "execution_count": 1,
   "id": "02002b04",
   "metadata": {},
   "outputs": [],
   "source": [
    "from torch.utils.data import DataLoader\n",
    "from torchvision import datasets, transforms\n",
    "\n",
    "# def load_data(split, batch_size, num_workers):\n",
    "#     preprocess = transforms.Compose([\n",
    "#         transforms.Resize(256),\n",
    "#         transforms.CenterCrop(224),\n",
    "#         transforms.ToTensor(),\n",
    "#         transforms.Normalize(mean=[0.485, 0.456, 0.406], std=[0.229, 0.224, 0.225]),\n",
    "#     ])\n",
    "\n",
    "# #     data = datasets.ImageNet(root=\"~/data/datasets/imagenet\", split=split, transform=preprocess)\n",
    "#     data = datasets.CIFAR10(root=\"~/data/datasets/CIFAR10\", train=True if split == \"train\" else False, transform=preprocess)\n",
    "#     loader = DataLoader(data, batch_size=batch_size, shuffle=True, num_workers=num_workers)    \n",
    "\n",
    "#     return loader\n",
    "\n"
   ]
  },
  {
   "cell_type": "code",
   "execution_count": 10,
   "id": "836667e0",
   "metadata": {},
   "outputs": [],
   "source": [
    "data = datasets.ImageNet(root=\"~/data/datasets/imagenet\", split=\"val\")"
   ]
  },
  {
   "cell_type": "code",
   "execution_count": 11,
   "id": "e94cfcf6",
   "metadata": {},
   "outputs": [
    {
     "data": {
      "text/plain": [
       "['__add__',\n",
       " '__class__',\n",
       " '__class_getitem__',\n",
       " '__delattr__',\n",
       " '__dict__',\n",
       " '__dir__',\n",
       " '__doc__',\n",
       " '__eq__',\n",
       " '__format__',\n",
       " '__ge__',\n",
       " '__getattribute__',\n",
       " '__getitem__',\n",
       " '__gt__',\n",
       " '__hash__',\n",
       " '__init__',\n",
       " '__init_subclass__',\n",
       " '__le__',\n",
       " '__len__',\n",
       " '__lt__',\n",
       " '__module__',\n",
       " '__ne__',\n",
       " '__new__',\n",
       " '__orig_bases__',\n",
       " '__parameters__',\n",
       " '__reduce__',\n",
       " '__reduce_ex__',\n",
       " '__repr__',\n",
       " '__setattr__',\n",
       " '__sizeof__',\n",
       " '__slots__',\n",
       " '__str__',\n",
       " '__subclasshook__',\n",
       " '__weakref__',\n",
       " '_find_classes',\n",
       " '_format_transform_repr',\n",
       " '_repr_indent',\n",
       " 'class_to_idx',\n",
       " 'classes',\n",
       " 'extensions',\n",
       " 'extra_repr',\n",
       " 'imgs',\n",
       " 'loader',\n",
       " 'make_dataset',\n",
       " 'parse_archives',\n",
       " 'root',\n",
       " 'samples',\n",
       " 'split',\n",
       " 'split_folder',\n",
       " 'target_transform',\n",
       " 'targets',\n",
       " 'transform',\n",
       " 'transforms',\n",
       " 'wnid_to_idx',\n",
       " 'wnids']"
      ]
     },
     "execution_count": 11,
     "metadata": {},
     "output_type": "execute_result"
    }
   ],
   "source": [
    "dir(data)"
   ]
  },
  {
   "cell_type": "code",
   "execution_count": 13,
   "id": "ae06b3f0",
   "metadata": {},
   "outputs": [],
   "source": [
    "data = datasets.CIFAR10(root=\"~/data/datasets/CIFAR10\", train=True)"
   ]
  },
  {
   "cell_type": "code",
   "execution_count": 14,
   "id": "d99d2ba7",
   "metadata": {},
   "outputs": [
    {
     "data": {
      "text/plain": [
       "['__add__',\n",
       " '__class__',\n",
       " '__class_getitem__',\n",
       " '__delattr__',\n",
       " '__dict__',\n",
       " '__dir__',\n",
       " '__doc__',\n",
       " '__eq__',\n",
       " '__format__',\n",
       " '__ge__',\n",
       " '__getattribute__',\n",
       " '__getitem__',\n",
       " '__gt__',\n",
       " '__hash__',\n",
       " '__init__',\n",
       " '__init_subclass__',\n",
       " '__le__',\n",
       " '__len__',\n",
       " '__lt__',\n",
       " '__module__',\n",
       " '__ne__',\n",
       " '__new__',\n",
       " '__orig_bases__',\n",
       " '__parameters__',\n",
       " '__reduce__',\n",
       " '__reduce_ex__',\n",
       " '__repr__',\n",
       " '__setattr__',\n",
       " '__sizeof__',\n",
       " '__slots__',\n",
       " '__str__',\n",
       " '__subclasshook__',\n",
       " '__weakref__',\n",
       " '_check_integrity',\n",
       " '_format_transform_repr',\n",
       " '_load_meta',\n",
       " '_repr_indent',\n",
       " 'base_folder',\n",
       " 'class_to_idx',\n",
       " 'classes',\n",
       " 'data',\n",
       " 'download',\n",
       " 'extra_repr',\n",
       " 'filename',\n",
       " 'meta',\n",
       " 'root',\n",
       " 'target_transform',\n",
       " 'targets',\n",
       " 'test_list',\n",
       " 'tgz_md5',\n",
       " 'train',\n",
       " 'train_list',\n",
       " 'transform',\n",
       " 'transforms',\n",
       " 'url']"
      ]
     },
     "execution_count": 14,
     "metadata": {},
     "output_type": "execute_result"
    }
   ],
   "source": [
    "dir(data)"
   ]
  },
  {
   "cell_type": "code",
   "execution_count": null,
   "id": "0ade8d0b",
   "metadata": {},
   "outputs": [],
   "source": []
  }
 ],
 "metadata": {
  "kernelspec": {
   "display_name": "Python 3",
   "language": "python",
   "name": "python3"
  },
  "language_info": {
   "codemirror_mode": {
    "name": "ipython",
    "version": 3
   },
   "file_extension": ".py",
   "mimetype": "text/x-python",
   "name": "python",
   "nbconvert_exporter": "python",
   "pygments_lexer": "ipython3",
   "version": "3.7.4"
  }
 },
 "nbformat": 4,
 "nbformat_minor": 5
}
